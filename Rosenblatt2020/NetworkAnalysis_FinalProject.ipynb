{
 "cells": [
  {
   "cell_type": "markdown",
   "metadata": {},
   "source": [
    "# Experiment"
   ]
  },
  {
   "cell_type": "code",
   "execution_count": 59,
   "metadata": {},
   "outputs": [],
   "source": [
    "# Import packages\n",
    "import pandas as pd\n",
    "import numpy as np\n",
    "import random\n",
    "import networkx as nx\n",
    "from spreading_CR import SpreadingProcess\n",
    "from collections import Counter\n",
    "\n",
    "\n",
    "# User-defined functions\n",
    "\n",
    "\n",
    "def create_networks_with_missing_nodes(graph, list_missing_percentages):\n",
    "    \"\"\"\n",
    "    Function to return a list of graphs which have missing nodes based on a given list.\n",
    "        graph = true network\n",
    "        list_missing_percentages = list that contains the percentages of which the observed networks should be created\n",
    "    \"\"\"\n",
    "    lst = []\n",
    "    for p in list_missing_percentages:\n",
    "        G = graph.copy()\n",
    "        G.remove_nodes_from(random.sample(list(G.nodes()), int(len(graph.nodes()) * p)))\n",
    "        lst.append(G)\n",
    "    return lst\n",
    "\n",
    "#def run_simulation(graph)\n",
    "    "
   ]
  },
  {
   "cell_type": "code",
   "execution_count": 2,
   "metadata": {},
   "outputs": [],
   "source": [
    "# Predefine parameters\n",
    "P = np.arange(0, 0.9, 0.1) #Part of missing nodes (error level 0 - 80%)\n",
    "q = 0.1 #Fraction of immunized nodes = 10%\n",
    "n = 1000 #Number of nodes = 1000\n",
    "t = [0.3, 0.155, 0.01] #Transitivity (High, Medium, Low)\n",
    "\n",
    "#Outbreak parameters:\n",
    "beta = 0.95\n",
    "gamma = 1\n",
    "\n",
    "# centrality measure (functions)\n",
    "# comparing to random \n",
    "#Degree\n",
    "#Betweenness\n",
    "#Eigenvector\n",
    "#PageRank\n"
   ]
  },
  {
   "cell_type": "markdown",
   "metadata": {},
   "source": [
    "## Network creation"
   ]
  },
  {
   "cell_type": "code",
   "execution_count": 3,
   "metadata": {},
   "outputs": [
    {
     "name": "stdout",
     "output_type": "stream",
     "text": [
      "List of first 5 nodes:  [1, 2, 3, 4, 5]\n",
      "List of first 5 edges:  [(1, 586), (1, 685), (1, 1657), (1, 1730), (1, 2344)]\n"
     ]
    }
   ],
   "source": [
    "# Import network data\n",
    "data = pd.read_csv('edgelist.truecolsprings.csv', usecols = ['V1', 'V2'])\n",
    "nodes = list(set(data.V1).union(set(data.V2)))\n",
    "edges = list(zip(data.V1, data.V2))\n",
    "print('List of first 5 nodes: ', nodes[:5])\n",
    "print('List of first 5 edges: ', edges[:5])"
   ]
  },
  {
   "cell_type": "code",
   "execution_count": 4,
   "metadata": {},
   "outputs": [
    {
     "name": "stdout",
     "output_type": "stream",
     "text": [
      "Name: \n",
      "Type: Graph\n",
      "Number of nodes: 4111\n",
      "Number of edges: 17164\n",
      "Average degree:   8.3503\n"
     ]
    }
   ],
   "source": [
    "# Create Colorado Springs network\n",
    "G = nx.Graph()\n",
    "G.add_nodes_from(nodes)\n",
    "G.add_edges_from(edges)\n",
    "print(nx.info(G))\n",
    "\n",
    "# Get degree sequence from Colorado Springs network\n",
    "degree_sequence = [d for n, d in G.degree()]"
   ]
  },
  {
   "cell_type": "code",
   "execution_count": 5,
   "metadata": {},
   "outputs": [],
   "source": [
    "# Create true configuration networks without self-loops and parallel edges\n",
    "N = 0\n",
    "graphs = []\n",
    "while N < 500:\n",
    "    #Sample from original degree_sequence\n",
    "    deg_sequence_sample = random.sample(degree_sequence, n)\n",
    "    \n",
    "    #Check for valid degree sequence\n",
    "    if nx.is_graphical(deg_sequence_sample):\n",
    "        G_random = nx.configuration_model(deg_sequence_sample, create_using = nx.Graph())\n",
    "        graphs.append(G_random)\n",
    "        N += 1\n",
    "        #print(N)\n",
    "        #print(nx.info(G_random), '\\nTransitivity:', round(nx.transitivity(G_random), 2))"
   ]
  },
  {
   "cell_type": "markdown",
   "metadata": {},
   "source": [
    "Transitivity as parameter of ERGMs? Cannot find how to include it for configuration models. \n",
    "* https://www.stats.ox.ac.uk/~snijders/SnijdersPattisonRobinsHandcock2006.pdf"
   ]
  },
  {
   "cell_type": "markdown",
   "metadata": {},
   "source": [
    "## Random Immunization and Outbreak"
   ]
  },
  {
   "cell_type": "code",
   "execution_count": 7,
   "metadata": {},
   "outputs": [],
   "source": [
    "# For each true network\n",
    "for G in graphs[:2]:\n",
    "    # For each observed network with p% missing nodes\n",
    "    for G_observed in create_networks_with_missing_nodes(G, P):\n",
    "        # Select q% of nodes for immunization\n",
    "        imNodes = random.sample(list(G_observed.nodes), int(len(G_observed.nodes) * q))\n",
    "        #print(imNodes)"
   ]
  },
  {
   "cell_type": "code",
   "execution_count": null,
   "metadata": {},
   "outputs": [],
   "source": [
    "degDictG = {n: d for n, d in G.degree()} "
   ]
  },
  {
   "cell_type": "markdown",
   "metadata": {},
   "source": [
    "To-Do's:\n",
    "* Run Outbreak for Random -> Calculate mean and sd\n",
    "* Apply immunization for different strategies\n",
    "    * calculate centrality\n",
    "    * immunize based on centrality"
   ]
  },
  {
   "cell_type": "code",
   "execution_count": 95,
   "metadata": {},
   "outputs": [
    {
     "name": "stdout",
     "output_type": "stream",
     "text": [
      "Counter({1: 795, 867: 64, 874: 52, 873: 49, 875: 48, 865: 46, 868: 45, 872: 45, 878: 44, 880: 42, 869: 41, 884: 40, 879: 39, 860: 38, 876: 37, 866: 35, 862: 33, 871: 33, 859: 33, 883: 28, 870: 27, 861: 25, 864: 25, 858: 25, 888: 23, 877: 22, 857: 22, 887: 18, 885: 18, 853: 18, 882: 18, 881: 18, 894: 14, 856: 14, 863: 13, 852: 13, 886: 12, 847: 12, 854: 12, 892: 11, 855: 7, 851: 6, 889: 5, 890: 5, 891: 5, 895: 5, 840: 5, 849: 4, 842: 4, 850: 3, 841: 2, 893: 1, 846: 1})\n",
      "{1: 795, 879: 39, 875: 48, 860: 38, 888: 23, 874: 52, 877: 22, 883: 28, 867: 64, 868: 45, 884: 40, 863: 13, 872: 45, 894: 14, 865: 46, 887: 18, 873: 49, 892: 11, 880: 42, 862: 33, 871: 33, 885: 18, 869: 41, 861: 25, 889: 5, 864: 25, 870: 27, 878: 44, 857: 22, 859: 33, 890: 5, 876: 37, 866: 35, 886: 12, 855: 7, 856: 14, 858: 25, 853: 18, 891: 5, 882: 18, 851: 6, 895: 5, 847: 12, 881: 18, 854: 12, 850: 3, 849: 4, 852: 13, 893: 1, 846: 1, 840: 5, 842: 4, 841: 2}\n"
     ]
    }
   ],
   "source": [
    "# Creation of graph\n",
    "G = nx.configuration_model(deg_sequence_sample, create_using = nx.Graph())\n",
    "listEdges = list(G_random.edges())\n",
    "listNodes = list(G_random.nodes())\n",
    "unimmunizedNodes = listNodes[:]\n",
    "\n",
    "# Initialize number of outbreak simulations\n",
    "seed = 42\n",
    "numOfSimulations = 2000\n",
    "patient0s = [[patient0] for patient0 in np.random.choice(unimmunizedNodes, size=numOfSimulations)] \n",
    "Rnode_list = [] #no previous infections\n",
    "final_size_list = []\n",
    "\n",
    "sp = SpreadingProcess(listEdges, beta, gamma, 0)\n",
    "\n",
    "# Start simulations\n",
    "for i in range(numOfSimulations): \n",
    "    Inode_list = patient0s[i]\n",
    "    sp.initialize(Inode_list, Rnode_list, seed)\n",
    "    sp.evolve(np.inf)\n",
    "\n",
    "    finalSizeInclTargets =  sp.get_Rnode_number_vector()[-1] \n",
    "    final_size_list.append(finalSizeInclTargets) # In this case there are no targets so all recovered nodes were infected, none were immunized\n",
    "    sp.reset()\n",
    "\n",
    "finalSizeDist = Counter(final_size_list)\n",
    "finalSizeDist_noImm = dict(finalSizeDist)\n",
    "pctTotalPopInf_noImm = np.mean(final_size_list) / G.number_of_nodes()"
   ]
  },
  {
   "cell_type": "code",
   "execution_count": 96,
   "metadata": {},
   "outputs": [
    {
     "data": {
      "text/plain": [
       "525.1225"
      ]
     },
     "execution_count": 96,
     "metadata": {},
     "output_type": "execute_result"
    }
   ],
   "source": [
    "np.mean(final_size_list)"
   ]
  },
  {
   "cell_type": "code",
   "execution_count": 74,
   "metadata": {},
   "outputs": [
    {
     "name": "stdout",
     "output_type": "stream",
     "text": [
      "R0 formula:  9.33464345873105\n",
      "R0 emprical:  5.8715\n",
      "R0 empirical std:  7.086888439223522\n"
     ]
    }
   ],
   "source": [
    "degDictG = {n: d for n, d in G.degree()}     \n",
    "\n",
    "# Estimate R0: analytically\n",
    "\n",
    "degs = list(degDictG.values())\n",
    "deg_sqrds = [deg**2 for deg in degs]\n",
    "\n",
    "deg_avg = np.mean(degs)# frequeently written as <k>\n",
    "deg_sqr_avg = np.mean(deg_sqrds) # frequently written as <k^2>\n",
    "\n",
    "R0_formula = (beta/(beta+gamma)) * (deg_sqr_avg/deg_avg -1) #the second term is the \"excess degree\"\n",
    "\n",
    "\n",
    "# Estimate R0: empirically\n",
    "seed = 42\n",
    "\n",
    "R0_empirical_mean, R0_empirical_std = sp.estimate_R0(numOfSimulations, seed) \n",
    "sp.reset()\n",
    "\n",
    "print(\"R0 formula: \", R0_formula)\n",
    "print(\"R0 emprical: \", R0_empirical_mean)\n",
    "print(\"R0 empirical std: \",R0_empirical_std)"
   ]
  },
  {
   "cell_type": "code",
   "execution_count": 97,
   "metadata": {},
   "outputs": [
    {
     "data": {
      "image/png": "[encoded data removed]",
      "text/plain": [
       "<Figure size 432x288 with 1 Axes>"
      ]
     },
     "metadata": {
      "needs_background": "light"
     },
     "output_type": "display_data"
    }
   ],
   "source": [
    "from spreading_CR import SpreadingProcess\n",
    "import numpy as np\n",
    "import networkx as nx\n",
    "import matplotlib.pyplot as plt\n",
    "\n",
    "#create a random graph using networkx\n",
    "seed = 42\n",
    "N = 1000\n",
    "k = 10\n",
    "p = 0.05\n",
    "G = nx.watts_strogatz_graph(N, k, p, seed=seed)\n",
    "\n",
    "#propagation parameters\n",
    "transmission_rate_list = np.linspace(0.0,0.5,10)\n",
    "recovery_rate = 1           #rate at which infected nodes become recovered\n",
    "waning_immunity_rate = 0    #rate at which recovered nodes become susceptible\n",
    "Inode_list = np.arange(0,5) #Initially infected nodes\n",
    "\n",
    "#prepare the sampling of the final size\n",
    "sample_size = 1000\n",
    "mean_final_size_list = []\n",
    "std_final_size_list = []\n",
    "\n",
    "for transmission_rate in transmission_rate_list:\n",
    "    #initialize the propagation process\n",
    "    sp = SpreadingProcess(list(G.edges()), transmission_rate,\n",
    "                            recovery_rate, waning_immunity_rate)\n",
    "\n",
    "    #get a sample of final size\n",
    "    final_size_list = []\n",
    "    for i in range(sample_size):\n",
    "        #simulate until an absorbing state is reached\n",
    "        sp.initialize(Inode_list, i)\n",
    "        sp.evolve(np.inf)\n",
    "\n",
    "        #get data and reset\n",
    "        final_size_list.append(sp.get_Rnode_number_vector()[-1]/N)\n",
    "        sp.reset()\n",
    "\n",
    "    #get the statistics\n",
    "    mean_final_size_list.append(np.mean(final_size_list))\n",
    "    std_final_size_list.append(np.std(final_size_list))\n",
    "\n",
    "#get the approximate std on the mean\n",
    "std_mean_final_size_list = [std/np.sqrt(sample_size)\n",
    "                            for std in std_final_size_list]\n",
    "\n",
    "#draw phase transition\n",
    "plt.errorbar(transmission_rate_list, mean_final_size_list,\n",
    "             yerr = std_mean_final_size_list, fmt = 'o-')\n",
    "plt.xlabel(r'Transmission rate')\n",
    "plt.ylabel(r'Mean final size')\n",
    "plt.show()"
   ]
  },
  {
   "cell_type": "code",
   "execution_count": null,
   "metadata": {},
   "outputs": [],
   "source": []
  }
 ],
 "metadata": {
  "kernelspec": {
   "display_name": "Python 3",
   "language": "python",
   "name": "python3"
  },
  "language_info": {
   "codemirror_mode": {
    "name": "ipython",
    "version": 3
   },
   "file_extension": ".py",
   "mimetype": "text/x-python",
   "name": "python",
   "nbconvert_exporter": "python",
   "pygments_lexer": "ipython3",
   "version": "3.7.7"
  }
 },
 "nbformat": 4,
 "nbformat_minor": 2
}
